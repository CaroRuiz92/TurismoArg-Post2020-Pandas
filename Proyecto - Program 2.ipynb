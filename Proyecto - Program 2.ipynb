{
 "cells": [
  {
   "cell_type": "markdown",
   "id": "86494847-18ec-485f-a0d8-5b3f61de908c",
   "metadata": {},
   "source": [
    "**Construcción de dataset de análisis**"
   ]
  },
  {
   "cell_type": "code",
   "execution_count": 1,
   "id": "4e3d66d3-f8d6-45d5-89bf-695733c2fe85",
   "metadata": {},
   "outputs": [],
   "source": [
    "import pandas as pd\n",
    "\n",
    "dataset1 = \"viajeros-hospedados-residentes-y-no-residentes-por-destino.csv\"\n",
    "datos1 = pd.read_csv(dataset1)\n",
    "cant_viajeros_res_nores = datos1.iloc[:, :4]"
   ]
  },
  {
   "cell_type": "code",
   "execution_count": 2,
   "id": "3c5abffd-31b7-4ba2-8405-2733b5b3be06",
   "metadata": {},
   "outputs": [],
   "source": [
    "dataset2 = \"estadia-media-residentes-y-no-residentes-por-destino.csv\"\n",
    "datos2 = pd.read_csv(dataset2)\n",
    "estadia_media_res_nores = datos2.iloc[:, :4]"
   ]
  },
  {
   "cell_type": "code",
   "execution_count": 5,
   "id": "9079c19e-84d9-43de-a8cd-12ede472beaa",
   "metadata": {},
   "outputs": [],
   "source": [
    "dataset3 = \"tasas-de-ocupacion-plazas-por-region-y-categoria.csv\"\n",
    "datos3 = pd.read_csv(dataset3)\n",
    "tasas_ocup_plazas = datos3.iloc[:, :4]"
   ]
  },
  {
   "cell_type": "code",
   "execution_count": 7,
   "id": "70ea0759-1da5-491e-bd66-0a4d02c30aae",
   "metadata": {},
   "outputs": [],
   "source": [
    "dataset4 = \"tasas-de-ocupacion-habitacion-por-region-y-categoria.csv\"\n",
    "datos4 = pd.read_csv(dataset4)\n",
    "tasas_ocup_habit = datos4.iloc[:, :4]"
   ]
  },
  {
   "cell_type": "code",
   "execution_count": 9,
   "id": "2502381c-7db5-4284-b2c1-3425e84af6a6",
   "metadata": {},
   "outputs": [],
   "source": [
    "dataset5 = \"facturacion-total-en-pesos-por-region-y-categoria.csv\"\n",
    "datos5 = pd.read_csv(dataset5)\n",
    "factu_region_categ = datos5.iloc[:, :4]"
   ]
  },
  {
   "cell_type": "code",
   "execution_count": 11,
   "id": "005d3586-1674-4b74-9925-ea9cd266196e",
   "metadata": {},
   "outputs": [
    {
     "data": {
      "text/html": [
       "<div>\n",
       "<style scoped>\n",
       "    .dataframe tbody tr th:only-of-type {\n",
       "        vertical-align: middle;\n",
       "    }\n",
       "\n",
       "    .dataframe tbody tr th {\n",
       "        vertical-align: top;\n",
       "    }\n",
       "\n",
       "    .dataframe thead th {\n",
       "        text-align: right;\n",
       "    }\n",
       "</style>\n",
       "<table border=\"1\" class=\"dataframe\">\n",
       "  <thead>\n",
       "    <tr style=\"text-align: right;\">\n",
       "      <th></th>\n",
       "      <th>indice_tiempo</th>\n",
       "      <th>region_de_destino</th>\n",
       "      <th>origen_viajeros</th>\n",
       "      <th>viajeros</th>\n",
       "      <th>estadia_media_en_noches</th>\n",
       "    </tr>\n",
       "  </thead>\n",
       "  <tbody>\n",
       "    <tr>\n",
       "      <th>0</th>\n",
       "      <td>2007-01-01</td>\n",
       "      <td>Buenos Aires</td>\n",
       "      <td>Residentes</td>\n",
       "      <td>401221.0</td>\n",
       "      <td>5.3</td>\n",
       "    </tr>\n",
       "    <tr>\n",
       "      <th>1</th>\n",
       "      <td>2007-01-01</td>\n",
       "      <td>Buenos Aires</td>\n",
       "      <td>No residentes</td>\n",
       "      <td>12889.0</td>\n",
       "      <td>3.8</td>\n",
       "    </tr>\n",
       "    <tr>\n",
       "      <th>2</th>\n",
       "      <td>2007-01-01</td>\n",
       "      <td>CABA</td>\n",
       "      <td>Residentes</td>\n",
       "      <td>139181.0</td>\n",
       "      <td>2.3</td>\n",
       "    </tr>\n",
       "    <tr>\n",
       "      <th>3</th>\n",
       "      <td>2007-01-01</td>\n",
       "      <td>CABA</td>\n",
       "      <td>No residentes</td>\n",
       "      <td>196750.0</td>\n",
       "      <td>2.4</td>\n",
       "    </tr>\n",
       "    <tr>\n",
       "      <th>4</th>\n",
       "      <td>2007-01-01</td>\n",
       "      <td>Cuyo</td>\n",
       "      <td>Residentes</td>\n",
       "      <td>125410.0</td>\n",
       "      <td>2.7</td>\n",
       "    </tr>\n",
       "  </tbody>\n",
       "</table>\n",
       "</div>"
      ],
      "text/plain": [
       "  indice_tiempo region_de_destino origen_viajeros  viajeros  \\\n",
       "0    2007-01-01      Buenos Aires      Residentes  401221.0   \n",
       "1    2007-01-01      Buenos Aires   No residentes   12889.0   \n",
       "2    2007-01-01              CABA      Residentes  139181.0   \n",
       "3    2007-01-01              CABA   No residentes  196750.0   \n",
       "4    2007-01-01              Cuyo      Residentes  125410.0   \n",
       "\n",
       "   estadia_media_en_noches  \n",
       "0                      5.3  \n",
       "1                      3.8  \n",
       "2                      2.3  \n",
       "3                      2.4  \n",
       "4                      2.7  "
      ]
     },
     "execution_count": 11,
     "metadata": {},
     "output_type": "execute_result"
    }
   ],
   "source": [
    "data1 = cant_viajeros_res_nores.merge(estadia_media_res_nores, on=['indice_tiempo', 'region_de_destino', 'origen_viajeros'], how='outer')\n",
    "data1.head()"
   ]
  },
  {
   "cell_type": "code",
   "execution_count": 13,
   "id": "f4cdcbf2-83cc-48ee-99d2-9ca85eaa5a0d",
   "metadata": {},
   "outputs": [
    {
     "data": {
      "text/html": [
       "<div>\n",
       "<style scoped>\n",
       "    .dataframe tbody tr th:only-of-type {\n",
       "        vertical-align: middle;\n",
       "    }\n",
       "\n",
       "    .dataframe tbody tr th {\n",
       "        vertical-align: top;\n",
       "    }\n",
       "\n",
       "    .dataframe thead th {\n",
       "        text-align: right;\n",
       "    }\n",
       "</style>\n",
       "<table border=\"1\" class=\"dataframe\">\n",
       "  <thead>\n",
       "    <tr style=\"text-align: right;\">\n",
       "      <th></th>\n",
       "      <th>indice_tiempo</th>\n",
       "      <th>region_de_destino</th>\n",
       "      <th>categoria_del_hotel</th>\n",
       "      <th>tasa_de_ocupacion_plazas</th>\n",
       "      <th>tasa_de_ocupacion_habitaciones</th>\n",
       "      <th>facturacion_total_en_pesos</th>\n",
       "    </tr>\n",
       "  </thead>\n",
       "  <tbody>\n",
       "    <tr>\n",
       "      <th>0</th>\n",
       "      <td>2012-01-01</td>\n",
       "      <td>Buenos Aires</td>\n",
       "      <td>1 y 2 estrellas</td>\n",
       "      <td>0.63</td>\n",
       "      <td>0.65</td>\n",
       "      <td>44811124.0</td>\n",
       "    </tr>\n",
       "    <tr>\n",
       "      <th>1</th>\n",
       "      <td>2012-01-01</td>\n",
       "      <td>Buenos Aires</td>\n",
       "      <td>3 estrellas/boutiques/aparts</td>\n",
       "      <td>0.67</td>\n",
       "      <td>0.72</td>\n",
       "      <td>88000600.0</td>\n",
       "    </tr>\n",
       "    <tr>\n",
       "      <th>2</th>\n",
       "      <td>2012-01-01</td>\n",
       "      <td>Buenos Aires</td>\n",
       "      <td>4 y 5 estrellas</td>\n",
       "      <td>0.62</td>\n",
       "      <td>0.67</td>\n",
       "      <td>68474622.0</td>\n",
       "    </tr>\n",
       "    <tr>\n",
       "      <th>3</th>\n",
       "      <td>2012-01-01</td>\n",
       "      <td>Buenos Aires</td>\n",
       "      <td>Para Hoteles</td>\n",
       "      <td>0.69</td>\n",
       "      <td>0.76</td>\n",
       "      <td>81220502.0</td>\n",
       "    </tr>\n",
       "    <tr>\n",
       "      <th>4</th>\n",
       "      <td>2012-01-01</td>\n",
       "      <td>Buenos Aires</td>\n",
       "      <td>Total</td>\n",
       "      <td>0.66</td>\n",
       "      <td>0.71</td>\n",
       "      <td>NaN</td>\n",
       "    </tr>\n",
       "  </tbody>\n",
       "</table>\n",
       "</div>"
      ],
      "text/plain": [
       "  indice_tiempo region_de_destino           categoria_del_hotel  \\\n",
       "0    2012-01-01      Buenos Aires               1 y 2 estrellas   \n",
       "1    2012-01-01      Buenos Aires  3 estrellas/boutiques/aparts   \n",
       "2    2012-01-01      Buenos Aires               4 y 5 estrellas   \n",
       "3    2012-01-01      Buenos Aires                  Para Hoteles   \n",
       "4    2012-01-01      Buenos Aires                         Total   \n",
       "\n",
       "   tasa_de_ocupacion_plazas  tasa_de_ocupacion_habitaciones  \\\n",
       "0                      0.63                            0.65   \n",
       "1                      0.67                            0.72   \n",
       "2                      0.62                            0.67   \n",
       "3                      0.69                            0.76   \n",
       "4                      0.66                            0.71   \n",
       "\n",
       "   facturacion_total_en_pesos  \n",
       "0                  44811124.0  \n",
       "1                  88000600.0  \n",
       "2                  68474622.0  \n",
       "3                  81220502.0  \n",
       "4                         NaN  "
      ]
     },
     "execution_count": 13,
     "metadata": {},
     "output_type": "execute_result"
    }
   ],
   "source": [
    "data2 = tasas_ocup_plazas.merge(tasas_ocup_habit, on=['indice_tiempo', 'region_de_destino', 'categoria_del_hotel'], how='outer').merge(factu_region_categ, on=['indice_tiempo', 'region_de_destino', 'categoria_del_hotel'], how='outer')\n",
    "data2.head()"
   ]
  },
  {
   "cell_type": "markdown",
   "id": "2b750f5a-a752-4453-911c-4523e078bab6",
   "metadata": {},
   "source": [
    "---------------------------------------"
   ]
  },
  {
   "cell_type": "markdown",
   "id": "1b5f262d-3d75-4b61-8130-a0e7fcc8dba9",
   "metadata": {},
   "source": [
    "**Dataset definitivo**"
   ]
  },
  {
   "cell_type": "code",
   "execution_count": 15,
   "id": "7a0186bd-b791-44ac-803c-9d53efe4764c",
   "metadata": {},
   "outputs": [
    {
     "data": {
      "text/html": [
       "<div>\n",
       "<style scoped>\n",
       "    .dataframe tbody tr th:only-of-type {\n",
       "        vertical-align: middle;\n",
       "    }\n",
       "\n",
       "    .dataframe tbody tr th {\n",
       "        vertical-align: top;\n",
       "    }\n",
       "\n",
       "    .dataframe thead th {\n",
       "        text-align: right;\n",
       "    }\n",
       "</style>\n",
       "<table border=\"1\" class=\"dataframe\">\n",
       "  <thead>\n",
       "    <tr style=\"text-align: right;\">\n",
       "      <th></th>\n",
       "      <th>indice_tiempo</th>\n",
       "      <th>region_de_destino</th>\n",
       "      <th>origen_viajeros</th>\n",
       "      <th>viajeros</th>\n",
       "      <th>estadia_media_en_noches</th>\n",
       "      <th>categoria_del_hotel</th>\n",
       "      <th>tasa_de_ocupacion_plazas</th>\n",
       "      <th>tasa_de_ocupacion_habitaciones</th>\n",
       "      <th>facturacion_total_en_pesos</th>\n",
       "    </tr>\n",
       "  </thead>\n",
       "  <tbody>\n",
       "    <tr>\n",
       "      <th>16795</th>\n",
       "      <td>2024-04-01</td>\n",
       "      <td>Patagonia</td>\n",
       "      <td>Total</td>\n",
       "      <td>NaN</td>\n",
       "      <td>2.3</td>\n",
       "      <td>1 y 2 estrellas</td>\n",
       "      <td>0.36</td>\n",
       "      <td>0.48</td>\n",
       "      <td>2.825963e+09</td>\n",
       "    </tr>\n",
       "    <tr>\n",
       "      <th>16796</th>\n",
       "      <td>2024-04-01</td>\n",
       "      <td>Patagonia</td>\n",
       "      <td>Total</td>\n",
       "      <td>NaN</td>\n",
       "      <td>2.3</td>\n",
       "      <td>3 estrellas/boutiques/aparts</td>\n",
       "      <td>0.29</td>\n",
       "      <td>0.39</td>\n",
       "      <td>6.432717e+09</td>\n",
       "    </tr>\n",
       "    <tr>\n",
       "      <th>16797</th>\n",
       "      <td>2024-04-01</td>\n",
       "      <td>Patagonia</td>\n",
       "      <td>Total</td>\n",
       "      <td>NaN</td>\n",
       "      <td>2.3</td>\n",
       "      <td>4 y 5 estrellas</td>\n",
       "      <td>0.36</td>\n",
       "      <td>0.49</td>\n",
       "      <td>1.579218e+10</td>\n",
       "    </tr>\n",
       "    <tr>\n",
       "      <th>16798</th>\n",
       "      <td>2024-04-01</td>\n",
       "      <td>Patagonia</td>\n",
       "      <td>Total</td>\n",
       "      <td>NaN</td>\n",
       "      <td>2.3</td>\n",
       "      <td>Para Hoteles</td>\n",
       "      <td>0.21</td>\n",
       "      <td>0.26</td>\n",
       "      <td>2.517031e+09</td>\n",
       "    </tr>\n",
       "    <tr>\n",
       "      <th>16799</th>\n",
       "      <td>2024-04-01</td>\n",
       "      <td>Patagonia</td>\n",
       "      <td>Total</td>\n",
       "      <td>NaN</td>\n",
       "      <td>2.3</td>\n",
       "      <td>Total</td>\n",
       "      <td>0.30</td>\n",
       "      <td>0.42</td>\n",
       "      <td>NaN</td>\n",
       "    </tr>\n",
       "  </tbody>\n",
       "</table>\n",
       "</div>"
      ],
      "text/plain": [
       "      indice_tiempo region_de_destino origen_viajeros  viajeros  \\\n",
       "16795    2024-04-01         Patagonia           Total       NaN   \n",
       "16796    2024-04-01         Patagonia           Total       NaN   \n",
       "16797    2024-04-01         Patagonia           Total       NaN   \n",
       "16798    2024-04-01         Patagonia           Total       NaN   \n",
       "16799    2024-04-01         Patagonia           Total       NaN   \n",
       "\n",
       "       estadia_media_en_noches           categoria_del_hotel  \\\n",
       "16795                      2.3               1 y 2 estrellas   \n",
       "16796                      2.3  3 estrellas/boutiques/aparts   \n",
       "16797                      2.3               4 y 5 estrellas   \n",
       "16798                      2.3                  Para Hoteles   \n",
       "16799                      2.3                         Total   \n",
       "\n",
       "       tasa_de_ocupacion_plazas  tasa_de_ocupacion_habitaciones  \\\n",
       "16795                      0.36                            0.48   \n",
       "16796                      0.29                            0.39   \n",
       "16797                      0.36                            0.49   \n",
       "16798                      0.21                            0.26   \n",
       "16799                      0.30                            0.42   \n",
       "\n",
       "       facturacion_total_en_pesos  \n",
       "16795                2.825963e+09  \n",
       "16796                6.432717e+09  \n",
       "16797                1.579218e+10  \n",
       "16798                2.517031e+09  \n",
       "16799                         NaN  "
      ]
     },
     "execution_count": 15,
     "metadata": {},
     "output_type": "execute_result"
    }
   ],
   "source": [
    "data = data1.merge(data2, on=['indice_tiempo', 'region_de_destino'], how='outer')\n",
    "data.tail()"
   ]
  },
  {
   "cell_type": "markdown",
   "id": "e03ef35e-198f-47ad-b258-621d6f635fec",
   "metadata": {},
   "source": [
    "______________________________"
   ]
  },
  {
   "cell_type": "markdown",
   "id": "2300fd82-f5f7-408b-a494-6f33437faa42",
   "metadata": {},
   "source": [
    "**Dentro del periodo de las vacaciones de verano del 2020-2021, ¿qué tipo de turistas (residentes o\r\n",
    "no residentes) tuvieron estadías más largas? ¿El levantamiento de las etapas de la cuarentena\r\n",
    "ayudó a su incremento en el tiemp**o?"
   ]
  },
  {
   "cell_type": "code",
   "execution_count": 17,
   "id": "b1d6ee03-3073-4af1-bdc6-35fa38b31939",
   "metadata": {},
   "outputs": [
    {
     "data": {
      "text/html": [
       "<div>\n",
       "<style scoped>\n",
       "    .dataframe tbody tr th:only-of-type {\n",
       "        vertical-align: middle;\n",
       "    }\n",
       "\n",
       "    .dataframe tbody tr th {\n",
       "        vertical-align: top;\n",
       "    }\n",
       "\n",
       "    .dataframe thead th {\n",
       "        text-align: right;\n",
       "    }\n",
       "</style>\n",
       "<table border=\"1\" class=\"dataframe\">\n",
       "  <thead>\n",
       "    <tr style=\"text-align: right;\">\n",
       "      <th></th>\n",
       "      <th>indice_tiempo</th>\n",
       "      <th>region_de_destino</th>\n",
       "      <th>origen_viajeros</th>\n",
       "      <th>viajeros</th>\n",
       "      <th>estadia_media_en_noches</th>\n",
       "      <th>categoria_del_hotel</th>\n",
       "      <th>tasa_de_ocupacion_plazas</th>\n",
       "      <th>tasa_de_ocupacion_habitaciones</th>\n",
       "      <th>facturacion_total_en_pesos</th>\n",
       "    </tr>\n",
       "  </thead>\n",
       "  <tbody>\n",
       "    <tr>\n",
       "      <th>12600</th>\n",
       "      <td>2021-01-01</td>\n",
       "      <td>Buenos Aires</td>\n",
       "      <td>Residentes</td>\n",
       "      <td>169606.0</td>\n",
       "      <td>4.0</td>\n",
       "      <td>1 y 2 estrellas</td>\n",
       "      <td>0.28</td>\n",
       "      <td>0.31</td>\n",
       "      <td>200734296.0</td>\n",
       "    </tr>\n",
       "    <tr>\n",
       "      <th>12601</th>\n",
       "      <td>2021-01-01</td>\n",
       "      <td>Buenos Aires</td>\n",
       "      <td>Residentes</td>\n",
       "      <td>169606.0</td>\n",
       "      <td>4.0</td>\n",
       "      <td>3 estrellas/boutiques/aparts</td>\n",
       "      <td>0.33</td>\n",
       "      <td>0.38</td>\n",
       "      <td>574387225.0</td>\n",
       "    </tr>\n",
       "    <tr>\n",
       "      <th>12602</th>\n",
       "      <td>2021-01-01</td>\n",
       "      <td>Buenos Aires</td>\n",
       "      <td>Residentes</td>\n",
       "      <td>169606.0</td>\n",
       "      <td>4.0</td>\n",
       "      <td>4 y 5 estrellas</td>\n",
       "      <td>0.32</td>\n",
       "      <td>0.37</td>\n",
       "      <td>448107951.0</td>\n",
       "    </tr>\n",
       "    <tr>\n",
       "      <th>12603</th>\n",
       "      <td>2021-01-01</td>\n",
       "      <td>Buenos Aires</td>\n",
       "      <td>Residentes</td>\n",
       "      <td>169606.0</td>\n",
       "      <td>4.0</td>\n",
       "      <td>Para Hoteles</td>\n",
       "      <td>0.37</td>\n",
       "      <td>0.41</td>\n",
       "      <td>563676218.0</td>\n",
       "    </tr>\n",
       "    <tr>\n",
       "      <th>12604</th>\n",
       "      <td>2021-01-01</td>\n",
       "      <td>Buenos Aires</td>\n",
       "      <td>Residentes</td>\n",
       "      <td>169606.0</td>\n",
       "      <td>4.0</td>\n",
       "      <td>Total</td>\n",
       "      <td>0.33</td>\n",
       "      <td>0.37</td>\n",
       "      <td>NaN</td>\n",
       "    </tr>\n",
       "  </tbody>\n",
       "</table>\n",
       "</div>"
      ],
      "text/plain": [
       "      indice_tiempo region_de_destino origen_viajeros  viajeros  \\\n",
       "12600    2021-01-01      Buenos Aires      Residentes  169606.0   \n",
       "12601    2021-01-01      Buenos Aires      Residentes  169606.0   \n",
       "12602    2021-01-01      Buenos Aires      Residentes  169606.0   \n",
       "12603    2021-01-01      Buenos Aires      Residentes  169606.0   \n",
       "12604    2021-01-01      Buenos Aires      Residentes  169606.0   \n",
       "\n",
       "       estadia_media_en_noches           categoria_del_hotel  \\\n",
       "12600                      4.0               1 y 2 estrellas   \n",
       "12601                      4.0  3 estrellas/boutiques/aparts   \n",
       "12602                      4.0               4 y 5 estrellas   \n",
       "12603                      4.0                  Para Hoteles   \n",
       "12604                      4.0                         Total   \n",
       "\n",
       "       tasa_de_ocupacion_plazas  tasa_de_ocupacion_habitaciones  \\\n",
       "12600                      0.28                            0.31   \n",
       "12601                      0.33                            0.38   \n",
       "12602                      0.32                            0.37   \n",
       "12603                      0.37                            0.41   \n",
       "12604                      0.33                            0.37   \n",
       "\n",
       "       facturacion_total_en_pesos  \n",
       "12600                 200734296.0  \n",
       "12601                 574387225.0  \n",
       "12602                 448107951.0  \n",
       "12603                 563676218.0  \n",
       "12604                         NaN  "
      ]
     },
     "execution_count": 17,
     "metadata": {},
     "output_type": "execute_result"
    }
   ],
   "source": [
    "vacac_verano_20_21 = data[(data['indice_tiempo'] >= '2020-12-18') & (data['indice_tiempo'] <= '2021-02-01')]\n",
    "vacac_verano_20_21.head()"
   ]
  },
  {
   "cell_type": "markdown",
   "id": "0b86660f-72bf-414a-9835-3a084097338c",
   "metadata": {},
   "source": [
    "Turismo verano 2020-2021"
   ]
  },
  {
   "cell_type": "code",
   "execution_count": 19,
   "id": "e18ff175-38a0-4534-820a-da8b2f26c8bc",
   "metadata": {},
   "outputs": [
    {
     "data": {
      "text/plain": [
       "origen_viajeros\n",
       "No residentes    2.542857\n",
       "Residentes       2.785714\n",
       "Total            2.771429\n",
       "Name: estadia_media_en_noches, dtype: float64"
      ]
     },
     "execution_count": 19,
     "metadata": {},
     "output_type": "execute_result"
    }
   ],
   "source": [
    "turis_estadias = vacac_verano_20_21.groupby('origen_viajeros')['estadia_media_en_noches']\n",
    "prom_turistas_verano2020 = turis_estadias.mean()\n",
    "prom_turistas_verano2020"
   ]
  },
  {
   "cell_type": "markdown",
   "id": "06ee39e4-ea4f-422b-8247-99c968b4d6a0",
   "metadata": {},
   "source": [
    "Turismo pre verano 2020"
   ]
  },
  {
   "cell_type": "code",
   "execution_count": 21,
   "id": "0d8b21ef-64de-409b-b899-ccbb3fb0726c",
   "metadata": {},
   "outputs": [
    {
     "data": {
      "text/plain": [
       "origen_viajeros\n",
       "No residentes    0.0\n",
       "Residentes       0.0\n",
       "Total            0.0\n",
       "Name: estadia_media_en_noches, dtype: float64"
      ]
     },
     "execution_count": 21,
     "metadata": {},
     "output_type": "execute_result"
    }
   ],
   "source": [
    "cuarent_2020 = data[(data['indice_tiempo'] >= '2020-03-20') & (data['indice_tiempo'] <= '2020-10-31')]\n",
    "turismo_cuarent_20 = cuarent_2020.groupby('origen_viajeros')['estadia_media_en_noches']\n",
    "prom_turistas_cuarent_2020 = turismo_cuarent_20.sum()\n",
    "prom_turistas_cuarent_2020"
   ]
  },
  {
   "cell_type": "markdown",
   "id": "acd3b697-81e4-410d-b733-e500fa566e05",
   "metadata": {},
   "source": [
    "**Tener en cuenta que el turismo comienza a tener normalidad entre noviembre y diciembre de 2020."
   ]
  },
  {
   "cell_type": "code",
   "execution_count": null,
   "id": "a2b466f9-f69a-4976-8433-cef2ae898770",
   "metadata": {},
   "outputs": [],
   "source": []
  },
  {
   "cell_type": "markdown",
   "id": "0955da35-5cf7-44fd-99ff-603fc782553e",
   "metadata": {},
   "source": [
    "**Teniendo en cuenta el punto anterior, ¿cuál es la región del país que menos facturación tuvo durante\r\n",
    "ese periodo? ¿Eran las mismas pre 2020? ¿Hubo algún cambio de preferencia**?\r"
   ]
  },
  {
   "cell_type": "markdown",
   "id": "0f6114c2-976e-4a23-ba81-97aa7c535ac4",
   "metadata": {},
   "source": [
    "Regiones con menos recaudación en el verano 2020-2021"
   ]
  },
  {
   "cell_type": "code",
   "execution_count": 23,
   "id": "2c2b6fe2-7c68-4d7d-a1d7-b64b7a4e4dd4",
   "metadata": {},
   "outputs": [
    {
     "data": {
      "text/plain": [
       "region_de_destino\n",
       "CABA       0.000000e+00\n",
       "Norte      3.019155e+09\n",
       "Cuyo       3.452416e+09\n",
       "Litoral    5.069056e+09\n",
       "Córdoba    7.392340e+09\n",
       "Name: facturacion_total_en_pesos, dtype: float64"
      ]
     },
     "execution_count": 23,
     "metadata": {},
     "output_type": "execute_result"
    }
   ],
   "source": [
    "region_facturac = vacac_verano_20_21.groupby('region_de_destino')['facturacion_total_en_pesos']\n",
    "region_fact_20_21_a = region_facturac.sum()\n",
    "region_fact_20_21_b = region_fact_20_21_a.fillna(0)\n",
    "region_fact = region_fact_20_21_b.sort_values(ascending=True)\n",
    "region_fact.head()"
   ]
  },
  {
   "cell_type": "markdown",
   "id": "104ce3ac-76eb-411e-a02e-f92c052d2462",
   "metadata": {},
   "source": [
    "Regiones según recaudación pre 2020 (datos desde 2007)"
   ]
  },
  {
   "cell_type": "code",
   "execution_count": 25,
   "id": "0b9442e5-0366-49a1-aeff-b1a27a1e2879",
   "metadata": {},
   "outputs": [
    {
     "data": {
      "text/plain": [
       "region_de_destino\n",
       "Córdoba         6.105507e+10\n",
       "Norte           7.210058e+10\n",
       "Cuyo            8.665739e+10\n",
       "Buenos Aires    8.934292e+10\n",
       "Litoral         1.218394e+11\n",
       "Name: facturacion_total_en_pesos, dtype: float64"
      ]
     },
     "execution_count": 25,
     "metadata": {},
     "output_type": "execute_result"
    }
   ],
   "source": [
    "fact_pre_2020 = data[(data['indice_tiempo'] <= '2020-03-20')] # REVER PERIODOS DE TIEMPO ELEGIDOS\n",
    "aa = fact_pre_2020.groupby('region_de_destino')['facturacion_total_en_pesos']\n",
    "bb = aa.sum()\n",
    "cc = bb.fillna(0)\n",
    "fact_region_pre_2020 = cc.sort_values(ascending=True)\n",
    "fact_region_pre_2020.head()"
   ]
  },
  {
   "cell_type": "code",
   "execution_count": null,
   "id": "2e5fa56b-096b-4cb3-9fc6-fe9a2f572e58",
   "metadata": {},
   "outputs": [],
   "source": []
  },
  {
   "cell_type": "markdown",
   "id": "533ae1ad-401d-4928-b50a-2d21d65fddcc",
   "metadata": {},
   "source": [
    "**¿Qué categorías de alojamiento fueron las más exitosas en ocupación entre 2022 y 2024?\r\n",
    "¿Demuestra algún tipo de progreso económico o no**?"
   ]
  },
  {
   "cell_type": "markdown",
   "id": "f882defd-18f1-4925-a84e-d55bc638e1d9",
   "metadata": {},
   "source": [
    "Ocupación 2022-2024"
   ]
  },
  {
   "cell_type": "code",
   "execution_count": 27,
   "id": "223502c1-29af-48d4-b3bc-31830385efe6",
   "metadata": {},
   "outputs": [],
   "source": [
    "ocup_22_24 = data[(data['indice_tiempo'] >= '2022-01-01') & (data['indice_tiempo'] <= '2024-04-01')]"
   ]
  },
  {
   "cell_type": "code",
   "execution_count": 29,
   "id": "db3efa90-c275-477c-8c6e-728b647edd92",
   "metadata": {},
   "outputs": [],
   "source": [
    "ocup_22_24.loc[:, 'viajeros'] = ocup_22_24['viajeros'].fillna(0)\n",
    "ocup_22_24.loc[:, 'facturacion_total_en_pesos'] = ocup_22_24['facturacion_total_en_pesos'].fillna(0)"
   ]
  },
  {
   "cell_type": "code",
   "execution_count": 31,
   "id": "f281e777-55ea-4a56-8b11-443ca5bd5d8c",
   "metadata": {},
   "outputs": [
    {
     "data": {
      "text/html": [
       "<div>\n",
       "<style scoped>\n",
       "    .dataframe tbody tr th:only-of-type {\n",
       "        vertical-align: middle;\n",
       "    }\n",
       "\n",
       "    .dataframe tbody tr th {\n",
       "        vertical-align: top;\n",
       "    }\n",
       "\n",
       "    .dataframe thead th {\n",
       "        text-align: right;\n",
       "    }\n",
       "</style>\n",
       "<table border=\"1\" class=\"dataframe\">\n",
       "  <thead>\n",
       "    <tr style=\"text-align: right;\">\n",
       "      <th></th>\n",
       "      <th>categoria_del_hotel</th>\n",
       "      <th>facturacion_total_en_pesos</th>\n",
       "      <th>viajeros</th>\n",
       "      <th>ocupacion</th>\n",
       "    </tr>\n",
       "  </thead>\n",
       "  <tbody>\n",
       "    <tr>\n",
       "      <th>2</th>\n",
       "      <td>4 y 5 estrellas</td>\n",
       "      <td>3.200855e+12</td>\n",
       "      <td>46479560.0</td>\n",
       "      <td>68865.873149</td>\n",
       "    </tr>\n",
       "    <tr>\n",
       "      <th>1</th>\n",
       "      <td>3 estrellas/boutiques/aparts</td>\n",
       "      <td>1.211391e+12</td>\n",
       "      <td>46479560.0</td>\n",
       "      <td>26062.879323</td>\n",
       "    </tr>\n",
       "    <tr>\n",
       "      <th>3</th>\n",
       "      <td>Para Hoteles</td>\n",
       "      <td>5.796830e+11</td>\n",
       "      <td>46479560.0</td>\n",
       "      <td>12471.783430</td>\n",
       "    </tr>\n",
       "    <tr>\n",
       "      <th>0</th>\n",
       "      <td>1 y 2 estrellas</td>\n",
       "      <td>3.898394e+11</td>\n",
       "      <td>46479560.0</td>\n",
       "      <td>8387.329031</td>\n",
       "    </tr>\n",
       "    <tr>\n",
       "      <th>4</th>\n",
       "      <td>Total</td>\n",
       "      <td>0.000000e+00</td>\n",
       "      <td>46479560.0</td>\n",
       "      <td>0.000000</td>\n",
       "    </tr>\n",
       "  </tbody>\n",
       "</table>\n",
       "</div>"
      ],
      "text/plain": [
       "            categoria_del_hotel  facturacion_total_en_pesos    viajeros  \\\n",
       "2               4 y 5 estrellas                3.200855e+12  46479560.0   \n",
       "1  3 estrellas/boutiques/aparts                1.211391e+12  46479560.0   \n",
       "3                  Para Hoteles                5.796830e+11  46479560.0   \n",
       "0               1 y 2 estrellas                3.898394e+11  46479560.0   \n",
       "4                         Total                0.000000e+00  46479560.0   \n",
       "\n",
       "      ocupacion  \n",
       "2  68865.873149  \n",
       "1  26062.879323  \n",
       "3  12471.783430  \n",
       "0   8387.329031  \n",
       "4      0.000000  "
      ]
     },
     "execution_count": 31,
     "metadata": {},
     "output_type": "execute_result"
    }
   ],
   "source": [
    "ocup_filtrado = ocup_22_24.groupby('categoria_del_hotel').agg({\n",
    "    'facturacion_total_en_pesos': 'sum',\n",
    "    'viajeros': 'sum'\n",
    "}).reset_index()\n",
    "ocup_filtrado['ocupacion'] = ocup_filtrado['facturacion_total_en_pesos'] / ocup_filtrado['viajeros']\n",
    "ocup_2022_2024 = ocup_filtrado.sort_values(by='ocupacion', ascending=False)\n",
    "ocup_2022_2024"
   ]
  },
  {
   "cell_type": "markdown",
   "id": "54fec160-c700-46ea-b04c-89e9e7b04ece",
   "metadata": {},
   "source": [
    "Ocupación 2020-2022"
   ]
  },
  {
   "cell_type": "code",
   "execution_count": 33,
   "id": "3d4064a5-1e4e-45de-8e1f-3bbc24a85ce6",
   "metadata": {},
   "outputs": [],
   "source": [
    "ocup_20_22 = data[(data['indice_tiempo'] >= '2020-01-01') & (data['indice_tiempo'] <= '2022-12-31')]"
   ]
  },
  {
   "cell_type": "code",
   "execution_count": 35,
   "id": "135530e9-fafd-45c5-90a0-9f263ed3bc80",
   "metadata": {},
   "outputs": [],
   "source": [
    "ocup_20_22.loc[:, 'viajeros'] = ocup_20_22['viajeros'].fillna(0)\n",
    "ocup_20_22.loc[:, 'facturacion_total_en_pesos'] = ocup_20_22['facturacion_total_en_pesos'].fillna(0)"
   ]
  },
  {
   "cell_type": "code",
   "execution_count": 37,
   "id": "34b6ce4e-83a8-4735-9eda-5e4ba4088f79",
   "metadata": {},
   "outputs": [
    {
     "data": {
      "text/html": [
       "<div>\n",
       "<style scoped>\n",
       "    .dataframe tbody tr th:only-of-type {\n",
       "        vertical-align: middle;\n",
       "    }\n",
       "\n",
       "    .dataframe tbody tr th {\n",
       "        vertical-align: top;\n",
       "    }\n",
       "\n",
       "    .dataframe thead th {\n",
       "        text-align: right;\n",
       "    }\n",
       "</style>\n",
       "<table border=\"1\" class=\"dataframe\">\n",
       "  <thead>\n",
       "    <tr style=\"text-align: right;\">\n",
       "      <th></th>\n",
       "      <th>categoria_del_hotel</th>\n",
       "      <th>facturacion_total_en_pesos</th>\n",
       "      <th>viajeros</th>\n",
       "      <th>ocupacion</th>\n",
       "    </tr>\n",
       "  </thead>\n",
       "  <tbody>\n",
       "    <tr>\n",
       "      <th>2</th>\n",
       "      <td>4 y 5 estrellas</td>\n",
       "      <td>7.428010e+11</td>\n",
       "      <td>35002445.0</td>\n",
       "      <td>21221.404142</td>\n",
       "    </tr>\n",
       "    <tr>\n",
       "      <th>1</th>\n",
       "      <td>3 estrellas/boutiques/aparts</td>\n",
       "      <td>2.982648e+11</td>\n",
       "      <td>35002445.0</td>\n",
       "      <td>8521.256206</td>\n",
       "    </tr>\n",
       "    <tr>\n",
       "      <th>3</th>\n",
       "      <td>Para Hoteles</td>\n",
       "      <td>1.511486e+11</td>\n",
       "      <td>35002445.0</td>\n",
       "      <td>4318.229207</td>\n",
       "    </tr>\n",
       "    <tr>\n",
       "      <th>0</th>\n",
       "      <td>1 y 2 estrellas</td>\n",
       "      <td>9.714372e+10</td>\n",
       "      <td>35002445.0</td>\n",
       "      <td>2775.341033</td>\n",
       "    </tr>\n",
       "    <tr>\n",
       "      <th>4</th>\n",
       "      <td>Total</td>\n",
       "      <td>0.000000e+00</td>\n",
       "      <td>35002445.0</td>\n",
       "      <td>0.000000</td>\n",
       "    </tr>\n",
       "  </tbody>\n",
       "</table>\n",
       "</div>"
      ],
      "text/plain": [
       "            categoria_del_hotel  facturacion_total_en_pesos    viajeros  \\\n",
       "2               4 y 5 estrellas                7.428010e+11  35002445.0   \n",
       "1  3 estrellas/boutiques/aparts                2.982648e+11  35002445.0   \n",
       "3                  Para Hoteles                1.511486e+11  35002445.0   \n",
       "0               1 y 2 estrellas                9.714372e+10  35002445.0   \n",
       "4                         Total                0.000000e+00  35002445.0   \n",
       "\n",
       "      ocupacion  \n",
       "2  21221.404142  \n",
       "1   8521.256206  \n",
       "3   4318.229207  \n",
       "0   2775.341033  \n",
       "4      0.000000  "
      ]
     },
     "execution_count": 37,
     "metadata": {},
     "output_type": "execute_result"
    }
   ],
   "source": [
    "ocup_b_filtrado = ocup_20_22.groupby('categoria_del_hotel').agg({\n",
    "    'facturacion_total_en_pesos': 'sum',\n",
    "    'viajeros': 'sum'\n",
    "}).reset_index()\n",
    "ocup_b_filtrado['ocupacion'] = ocup_b_filtrado['facturacion_total_en_pesos'] / ocup_b_filtrado['viajeros']\n",
    "ocup_2020_2022 = ocup_b_filtrado.sort_values(by='ocupacion', ascending=False)\n",
    "ocup_2020_2022"
   ]
  },
  {
   "cell_type": "markdown",
   "id": "4ab7d376-a859-4089-9e3b-6e0b9f3f2a09",
   "metadata": {},
   "source": [
    "**Se observa crecimiento en la ocupación."
   ]
  },
  {
   "cell_type": "code",
   "execution_count": null,
   "id": "95ec8234-a581-4cd1-9316-4c5d43dcc01f",
   "metadata": {},
   "outputs": [],
   "source": []
  },
  {
   "cell_type": "markdown",
   "id": "688c44cc-3b12-49d1-8182-e11cf41cdd64",
   "metadata": {},
   "source": [
    "**Dentro de los registros pertenecientes al 2024, ¿cuál es la región más visitada por los turistas\r\n",
    "residentes? En cuanto a ocupación de habitaciones, la elección fue pareja en las primeras tres regiones?**?"
   ]
  },
  {
   "cell_type": "code",
   "execution_count": 39,
   "id": "d3364257-c1ef-455d-8119-8c37f42c9c64",
   "metadata": {},
   "outputs": [
    {
     "data": {
      "text/plain": [
       "region_de_destino\n",
       "Patagonia       5242275.0\n",
       "Buenos Aires    4653300.0\n",
       "Córdoba         3960615.0\n",
       "Litoral         3575030.0\n",
       "CABA            3013910.0\n",
       "Norte           2624265.0\n",
       "Cuyo            2114400.0\n",
       "Name: viajeros, dtype: float64"
      ]
     },
     "execution_count": 39,
     "metadata": {},
     "output_type": "execute_result"
    }
   ],
   "source": [
    "ocup_2024 = data[(data['indice_tiempo'] >= '2024-01-01') & (data['indice_tiempo'] <= '2024-04-01')]\n",
    "ocup_x_region = ocup_2024[ocup_2024['origen_viajeros'] == 'Residentes'].groupby('region_de_destino')['viajeros'].sum()\n",
    "ocup_x_region.sort_values(ascending=False)"
   ]
  },
  {
   "cell_type": "code",
   "execution_count": 54,
   "id": "8de99a4b-c7fa-44e8-a173-047945c4f926",
   "metadata": {},
   "outputs": [
    {
     "data": {
      "text/plain": [
       "categoria_del_hotel\n",
       "4 y 5 estrellas                 5.91\n",
       "Total                           5.72\n",
       "3 estrellas/boutiques/aparts    5.64\n",
       "Para Hoteles                    5.60\n",
       "1 y 2 estrellas                 5.44\n",
       "Name: tasa_de_ocupacion_habitaciones, dtype: float64"
      ]
     },
     "execution_count": 54,
     "metadata": {},
     "output_type": "execute_result"
    }
   ],
   "source": [
    "aloj_mejores_reg_2024 = ocup_2024[(ocup_2024['region_de_destino'] == 'Patagonia') | (ocup_2024['region_de_destino'] == 'Buenos Aires') | (ocup_2024['region_de_destino'] == 'Córdoba')]\n",
    "aloj_mejores_reg_2024 = aloj_mejores_reg_2024[(aloj_mejores_reg_2024['origen_viajeros'] == 'Residentes')]\n",
    "aloj_mejores_reg_2024 = aloj_mejores_reg_2024.groupby('categoria_del_hotel')['tasa_de_ocupacion_habitaciones'].sum()\n",
    "aloj_mejores_reg_2024.sort_values(ascending=False)"
   ]
  },
  {
   "cell_type": "code",
   "execution_count": null,
   "id": "1479e888-6754-4328-974d-75ecd3a11295",
   "metadata": {},
   "outputs": [],
   "source": []
  }
 ],
 "metadata": {
  "kernelspec": {
   "display_name": "Python 3 (ipykernel)",
   "language": "python",
   "name": "python3"
  },
  "language_info": {
   "codemirror_mode": {
    "name": "ipython",
    "version": 3
   },
   "file_extension": ".py",
   "mimetype": "text/x-python",
   "name": "python",
   "nbconvert_exporter": "python",
   "pygments_lexer": "ipython3",
   "version": "3.11.5"
  }
 },
 "nbformat": 4,
 "nbformat_minor": 5
}
